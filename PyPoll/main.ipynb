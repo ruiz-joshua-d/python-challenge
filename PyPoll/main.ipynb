{
 "cells": [
  {
   "cell_type": "code",
   "execution_count": 127,
   "metadata": {},
   "outputs": [],
   "source": [
    "#Import packages\n",
    "import pandas as pd"
   ]
  },
  {
   "cell_type": "code",
   "execution_count": 128,
   "id": "0f2ea7da",
   "metadata": {},
   "outputs": [
    {
     "data": {
      "text/plain": [
       "'c:/users/joshu/analytics/bootcamp/myrepo/python-challenge/PyPoll/Resources/election_data.csv'"
      ]
     },
     "execution_count": 128,
     "metadata": {},
     "output_type": "execute_result"
    }
   ],
   "source": [
    "#Create file_path\n",
    "file_path = 'c:/users/joshu/analytics/bootcamp/myrepo/python-challenge/PyPoll/Resources/election_data.csv'\n",
    "file_path"
   ]
  },
  {
   "cell_type": "code",
   "execution_count": 129,
   "id": "b2286ffe",
   "metadata": {},
   "outputs": [
    {
     "data": {
      "text/plain": [
       "Index(['Ballot ID', 'County', 'Candidate'], dtype='object')"
      ]
     },
     "execution_count": 129,
     "metadata": {},
     "output_type": "execute_result"
    }
   ],
   "source": [
    "#Create dataframe\n",
    "df = pd.read_csv(file_path)\n",
    "df.columns"
   ]
  },
  {
   "cell_type": "code",
   "execution_count": 130,
   "id": "b82633cf",
   "metadata": {},
   "outputs": [
    {
     "data": {
      "text/plain": [
       "array(['Charles Casper Stockham', 'Diana DeGette', 'Raymon Anthony Doane'],\n",
       "      dtype=object)"
      ]
     },
     "execution_count": 130,
     "metadata": {},
     "output_type": "execute_result"
    }
   ],
   "source": [
    "#Identify unique count of candidates in dataset\n",
    "unique_candidate_list = df['Candidate'].unique()\n",
    "unique_candidate_list"
   ]
  },
  {
   "cell_type": "code",
   "execution_count": 131,
   "id": "7661ec74",
   "metadata": {},
   "outputs": [
    {
     "data": {
      "text/html": [
       "<div>\n",
       "<style scoped>\n",
       "    .dataframe tbody tr th:only-of-type {\n",
       "        vertical-align: middle;\n",
       "    }\n",
       "\n",
       "    .dataframe tbody tr th {\n",
       "        vertical-align: top;\n",
       "    }\n",
       "\n",
       "    .dataframe thead th {\n",
       "        text-align: right;\n",
       "    }\n",
       "</style>\n",
       "<table border=\"1\" class=\"dataframe\">\n",
       "  <thead>\n",
       "    <tr style=\"text-align: right;\">\n",
       "      <th></th>\n",
       "      <th>Ballot ID</th>\n",
       "      <th>County</th>\n",
       "    </tr>\n",
       "    <tr>\n",
       "      <th>Candidate</th>\n",
       "      <th></th>\n",
       "      <th></th>\n",
       "    </tr>\n",
       "  </thead>\n",
       "  <tbody>\n",
       "    <tr>\n",
       "      <th>Charles Casper Stockham</th>\n",
       "      <td>85213</td>\n",
       "      <td>85213</td>\n",
       "    </tr>\n",
       "    <tr>\n",
       "      <th>Diana DeGette</th>\n",
       "      <td>272892</td>\n",
       "      <td>272892</td>\n",
       "    </tr>\n",
       "    <tr>\n",
       "      <th>Raymon Anthony Doane</th>\n",
       "      <td>11606</td>\n",
       "      <td>11606</td>\n",
       "    </tr>\n",
       "  </tbody>\n",
       "</table>\n",
       "</div>"
      ],
      "text/plain": [
       "                         Ballot ID  County\n",
       "Candidate                                 \n",
       "Charles Casper Stockham      85213   85213\n",
       "Diana DeGette               272892  272892\n",
       "Raymon Anthony Doane         11606   11606"
      ]
     },
     "execution_count": 131,
     "metadata": {},
     "output_type": "execute_result"
    }
   ],
   "source": [
    "#Identify the count of votes each candidate won\n",
    "candidate_vote_total = df.groupby('Candidate').count()\n",
    "candidate_vote_total"
   ]
  },
  {
   "cell_type": "code",
   "execution_count": 132,
   "id": "74adc4d4",
   "metadata": {},
   "outputs": [
    {
     "data": {
      "text/html": [
       "<div>\n",
       "<style scoped>\n",
       "    .dataframe tbody tr th:only-of-type {\n",
       "        vertical-align: middle;\n",
       "    }\n",
       "\n",
       "    .dataframe tbody tr th {\n",
       "        vertical-align: top;\n",
       "    }\n",
       "\n",
       "    .dataframe thead th {\n",
       "        text-align: right;\n",
       "    }\n",
       "</style>\n",
       "<table border=\"1\" class=\"dataframe\">\n",
       "  <thead>\n",
       "    <tr style=\"text-align: right;\">\n",
       "      <th></th>\n",
       "      <th>Ballot ID</th>\n",
       "      <th>County</th>\n",
       "      <th>Vote Total</th>\n",
       "    </tr>\n",
       "    <tr>\n",
       "      <th>Candidate</th>\n",
       "      <th></th>\n",
       "      <th></th>\n",
       "      <th></th>\n",
       "    </tr>\n",
       "  </thead>\n",
       "  <tbody>\n",
       "    <tr>\n",
       "      <th>Charles Casper Stockham</th>\n",
       "      <td>85213</td>\n",
       "      <td>85213</td>\n",
       "      <td>85213</td>\n",
       "    </tr>\n",
       "    <tr>\n",
       "      <th>Diana DeGette</th>\n",
       "      <td>272892</td>\n",
       "      <td>272892</td>\n",
       "      <td>272892</td>\n",
       "    </tr>\n",
       "    <tr>\n",
       "      <th>Raymon Anthony Doane</th>\n",
       "      <td>11606</td>\n",
       "      <td>11606</td>\n",
       "      <td>11606</td>\n",
       "    </tr>\n",
       "  </tbody>\n",
       "</table>\n",
       "</div>"
      ],
      "text/plain": [
       "                         Ballot ID  County  Vote Total\n",
       "Candidate                                             \n",
       "Charles Casper Stockham      85213   85213       85213\n",
       "Diana DeGette               272892  272892      272892\n",
       "Raymon Anthony Doane         11606   11606       11606"
      ]
     },
     "execution_count": 132,
     "metadata": {},
     "output_type": "execute_result"
    }
   ],
   "source": [
    "#Add new Vote Total column\n",
    "candidate_vote_total['Vote Total'] = candidate_vote_total['County']\n",
    "candidate_vote_total"
   ]
  },
  {
   "cell_type": "code",
   "execution_count": 133,
   "id": "3a534aec",
   "metadata": {},
   "outputs": [
    {
     "data": {
      "text/html": [
       "<div>\n",
       "<style scoped>\n",
       "    .dataframe tbody tr th:only-of-type {\n",
       "        vertical-align: middle;\n",
       "    }\n",
       "\n",
       "    .dataframe tbody tr th {\n",
       "        vertical-align: top;\n",
       "    }\n",
       "\n",
       "    .dataframe thead th {\n",
       "        text-align: right;\n",
       "    }\n",
       "</style>\n",
       "<table border=\"1\" class=\"dataframe\">\n",
       "  <thead>\n",
       "    <tr style=\"text-align: right;\">\n",
       "      <th></th>\n",
       "      <th>Ballot ID</th>\n",
       "      <th>County</th>\n",
       "      <th>Vote Total</th>\n",
       "      <th>Grand Vote Total</th>\n",
       "    </tr>\n",
       "    <tr>\n",
       "      <th>Candidate</th>\n",
       "      <th></th>\n",
       "      <th></th>\n",
       "      <th></th>\n",
       "      <th></th>\n",
       "    </tr>\n",
       "  </thead>\n",
       "  <tbody>\n",
       "    <tr>\n",
       "      <th>Charles Casper Stockham</th>\n",
       "      <td>85213</td>\n",
       "      <td>85213</td>\n",
       "      <td>85213</td>\n",
       "      <td>369711</td>\n",
       "    </tr>\n",
       "    <tr>\n",
       "      <th>Diana DeGette</th>\n",
       "      <td>272892</td>\n",
       "      <td>272892</td>\n",
       "      <td>272892</td>\n",
       "      <td>369711</td>\n",
       "    </tr>\n",
       "    <tr>\n",
       "      <th>Raymon Anthony Doane</th>\n",
       "      <td>11606</td>\n",
       "      <td>11606</td>\n",
       "      <td>11606</td>\n",
       "      <td>369711</td>\n",
       "    </tr>\n",
       "  </tbody>\n",
       "</table>\n",
       "</div>"
      ],
      "text/plain": [
       "                         Ballot ID  County  Vote Total  Grand Vote Total\n",
       "Candidate                                                               \n",
       "Charles Casper Stockham      85213   85213       85213            369711\n",
       "Diana DeGette               272892  272892      272892            369711\n",
       "Raymon Anthony Doane         11606   11606       11606            369711"
      ]
     },
     "execution_count": 133,
     "metadata": {},
     "output_type": "execute_result"
    }
   ],
   "source": [
    "#Add new Grand Vote Total\n",
    "candidate_vote_total['Grand Vote Total'] = candidate_vote_total['County'].sum()\n",
    "candidate_vote_total"
   ]
  },
  {
   "cell_type": "code",
   "execution_count": 134,
   "id": "c027f47c",
   "metadata": {},
   "outputs": [
    {
     "data": {
      "text/html": [
       "<div>\n",
       "<style scoped>\n",
       "    .dataframe tbody tr th:only-of-type {\n",
       "        vertical-align: middle;\n",
       "    }\n",
       "\n",
       "    .dataframe tbody tr th {\n",
       "        vertical-align: top;\n",
       "    }\n",
       "\n",
       "    .dataframe thead th {\n",
       "        text-align: right;\n",
       "    }\n",
       "</style>\n",
       "<table border=\"1\" class=\"dataframe\">\n",
       "  <thead>\n",
       "    <tr style=\"text-align: right;\">\n",
       "      <th></th>\n",
       "      <th>Ballot ID</th>\n",
       "      <th>County</th>\n",
       "      <th>Vote Total</th>\n",
       "      <th>Grand Vote Total</th>\n",
       "      <th>Percent of Vote (%)</th>\n",
       "    </tr>\n",
       "    <tr>\n",
       "      <th>Candidate</th>\n",
       "      <th></th>\n",
       "      <th></th>\n",
       "      <th></th>\n",
       "      <th></th>\n",
       "      <th></th>\n",
       "    </tr>\n",
       "  </thead>\n",
       "  <tbody>\n",
       "    <tr>\n",
       "      <th>Charles Casper Stockham</th>\n",
       "      <td>85213</td>\n",
       "      <td>85213</td>\n",
       "      <td>85213</td>\n",
       "      <td>369711</td>\n",
       "      <td>23.048543</td>\n",
       "    </tr>\n",
       "    <tr>\n",
       "      <th>Diana DeGette</th>\n",
       "      <td>272892</td>\n",
       "      <td>272892</td>\n",
       "      <td>272892</td>\n",
       "      <td>369711</td>\n",
       "      <td>73.812248</td>\n",
       "    </tr>\n",
       "    <tr>\n",
       "      <th>Raymon Anthony Doane</th>\n",
       "      <td>11606</td>\n",
       "      <td>11606</td>\n",
       "      <td>11606</td>\n",
       "      <td>369711</td>\n",
       "      <td>3.139209</td>\n",
       "    </tr>\n",
       "  </tbody>\n",
       "</table>\n",
       "</div>"
      ],
      "text/plain": [
       "                         Ballot ID  County  Vote Total  Grand Vote Total  \\\n",
       "Candidate                                                                  \n",
       "Charles Casper Stockham      85213   85213       85213            369711   \n",
       "Diana DeGette               272892  272892      272892            369711   \n",
       "Raymon Anthony Doane         11606   11606       11606            369711   \n",
       "\n",
       "                         Percent of Vote (%)  \n",
       "Candidate                                     \n",
       "Charles Casper Stockham            23.048543  \n",
       "Diana DeGette                      73.812248  \n",
       "Raymon Anthony Doane                3.139209  "
      ]
     },
     "execution_count": 134,
     "metadata": {},
     "output_type": "execute_result"
    }
   ],
   "source": [
    "#Identify % of votes each candidate won\n",
    "candidate_vote_total['Percent of Vote (%)'] = candidate_vote_total['Vote Total'] / candidate_vote_total['Grand Vote Total'] * 100\n",
    "candidate_vote_total"
   ]
  },
  {
   "cell_type": "code",
   "execution_count": 135,
   "id": "a1fa27b9",
   "metadata": {},
   "outputs": [
    {
     "data": {
      "text/plain": [
       "272892"
      ]
     },
     "execution_count": 135,
     "metadata": {},
     "output_type": "execute_result"
    }
   ],
   "source": [
    "#Identify the max(vote total)\n",
    "max_value = candidate_vote_total['Vote Total'].max()\n",
    "max_value"
   ]
  },
  {
   "cell_type": "code",
   "execution_count": 136,
   "id": "f020eab6",
   "metadata": {},
   "outputs": [
    {
     "data": {
      "text/plain": [
       "'Diana DeGette'"
      ]
     },
     "execution_count": 136,
     "metadata": {},
     "output_type": "execute_result"
    }
   ],
   "source": [
    "#Identify the winner\n",
    "winner = candidate_vote_total.loc[candidate_vote_total['Vote Total'] == max_value,].reset_index()\n",
    "winner2 = winner.iloc[0,0]\n",
    "winner2"
   ]
  },
  {
   "cell_type": "code",
   "execution_count": 137,
   "id": "47536fec",
   "metadata": {},
   "outputs": [
    {
     "name": "stdout",
     "output_type": "stream",
     "text": [
      "Election Results\n",
      "-----------------\n",
      "Total Vote: 369711\n",
      "-----------------\n",
      "                         Percent of Vote (%)  Vote Total\n",
      "Candidate                                               \n",
      "Charles Casper Stockham            23.048543       85213\n",
      "Diana DeGette                      73.812248      272892\n",
      "Raymon Anthony Doane                3.139209       11606\n",
      "-----------------\n",
      "Winner: Diana DeGette\n"
     ]
    }
   ],
   "source": [
    "#Print the winning message\n",
    "print('Election Results')\n",
    "print('-----------------')\n",
    "print('Total Vote: ' + str(candidate_vote_total['Grand Vote Total'].max()))\n",
    "print('-----------------')\n",
    "print(candidate_vote_total.iloc[:,[4,2]] )\n",
    "print('-----------------')\n",
    "print('Winner: ' + winner2 )"
   ]
  }
 ],
 "metadata": {
  "kernelspec": {
   "display_name": "base",
   "language": "python",
   "name": "python3"
  },
  "language_info": {
   "codemirror_mode": {
    "name": "ipython",
    "version": 3
   },
   "file_extension": ".py",
   "mimetype": "text/x-python",
   "name": "python",
   "nbconvert_exporter": "python",
   "pygments_lexer": "ipython3",
   "version": "3.9.12"
  },
  "vscode": {
   "interpreter": {
    "hash": "6c9b5f2fc96e180b8a5a8a696d3f7e4165240dee36d2141e31628b5fa32cbf6e"
   }
  }
 },
 "nbformat": 4,
 "nbformat_minor": 5
}
