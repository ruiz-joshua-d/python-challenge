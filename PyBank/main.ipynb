{
 "cells": [
  {
   "cell_type": "code",
   "execution_count": 136,
   "metadata": {},
   "outputs": [],
   "source": [
    "#Import packages\n",
    "import pandas as pd\n",
    "import numpy"
   ]
  },
  {
   "cell_type": "code",
   "execution_count": 2,
   "id": "a92e580f",
   "metadata": {},
   "outputs": [],
   "source": [
    "#Define filepath\n",
    "file_path = \"c:/users/joshu/analytics/bootcamp/myrepo/python-challenge/pybank/resources/budget_data.csv\"\n"
   ]
  },
  {
   "cell_type": "code",
   "execution_count": 31,
   "id": "916bccd5",
   "metadata": {},
   "outputs": [
    {
     "name": "stdout",
     "output_type": "stream",
     "text": [
      "     Date  Profit/Losses\n",
      "0  Jan-10        1088983\n",
      "1  Feb-10        -354534\n",
      "2  Mar-10         276622\n",
      "3  Apr-10        -728133\n",
      "4  May-10         852993\n",
      "5  Jun-10         563721\n",
      "6  Jul-10        -535208\n",
      "7  Aug-10         632349\n",
      "8  Sep-10        -173744\n",
      "9  Oct-10         950741\n"
     ]
    }
   ],
   "source": [
    "#Read in .csv\n",
    "df = pd.read_csv(file_path)\n",
    "print (df.head(10))"
   ]
  },
  {
   "cell_type": "code",
   "execution_count": 4,
   "id": "c8db79cf",
   "metadata": {},
   "outputs": [
    {
     "name": "stdout",
     "output_type": "stream",
     "text": [
      "['Jan-10' 'Feb-10' 'Mar-10' 'Apr-10' 'May-10' 'Jun-10' 'Jul-10' 'Aug-10'\n",
      " 'Sep-10' 'Oct-10' 'Nov-10' 'Dec-10' 'Jan-11' 'Feb-11' 'Mar-11' 'Apr-11'\n",
      " 'May-11' 'Jun-11' 'Jul-11' 'Aug-11' 'Sep-11' 'Oct-11' 'Nov-11' 'Dec-11'\n",
      " 'Jan-12' 'Feb-12' 'Mar-12' 'Apr-12' 'May-12' 'Jun-12' 'Jul-12' 'Aug-12'\n",
      " 'Sep-12' 'Oct-12' 'Nov-12' 'Dec-12' 'Jan-13' 'Feb-13' 'Mar-13' 'Apr-13'\n",
      " 'May-13' 'Jun-13' 'Jul-13' 'Aug-13' 'Sep-13' 'Oct-13' 'Nov-13' 'Dec-13'\n",
      " 'Jan-14' 'Feb-14' 'Mar-14' 'Apr-14' 'May-14' 'Jun-14' 'Jul-14' 'Aug-14'\n",
      " 'Sep-14' 'Oct-14' 'Nov-14' 'Dec-14' 'Jan-15' 'Feb-15' 'Mar-15' 'Apr-15'\n",
      " 'May-15' 'Jun-15' 'Jul-15' 'Aug-15' 'Sep-15' 'Oct-15' 'Nov-15' 'Dec-15'\n",
      " 'Jan-16' 'Feb-16' 'Mar-16' 'Apr-16' 'May-16' 'Jun-16' 'Jul-16' 'Aug-16'\n",
      " 'Sep-16' 'Oct-16' 'Nov-16' 'Dec-16' 'Jan-17' 'Feb-17']\n"
     ]
    }
   ],
   "source": [
    "#Identify total number of months included in the dataset\n",
    "date_values = df[\"Date\"].unique()\n",
    "print(date_values)"
   ]
  },
  {
   "cell_type": "code",
   "execution_count": 5,
   "id": "c965c717",
   "metadata": {},
   "outputs": [
    {
     "name": "stdout",
     "output_type": "stream",
     "text": [
      "22564198\n"
     ]
    }
   ],
   "source": [
    "#Net amount of profit/losses\n",
    "net_profit = df[\"Profit/Losses\"].sum()\n",
    "print(net_profit)"
   ]
  },
  {
   "cell_type": "code",
   "execution_count": 120,
   "id": "646d4be6",
   "metadata": {},
   "outputs": [
    {
     "name": "stdout",
     "output_type": "stream",
     "text": [
      "84\n"
     ]
    }
   ],
   "source": [
    "row_count = df[\"Date\"].count() - 2\n",
    "print(row_count)"
   ]
  },
  {
   "cell_type": "code",
   "execution_count": 117,
   "id": "966d1ac5",
   "metadata": {},
   "outputs": [
    {
     "data": {
      "text/html": [
       "<div>\n",
       "<style scoped>\n",
       "    .dataframe tbody tr th:only-of-type {\n",
       "        vertical-align: middle;\n",
       "    }\n",
       "\n",
       "    .dataframe tbody tr th {\n",
       "        vertical-align: top;\n",
       "    }\n",
       "\n",
       "    .dataframe thead th {\n",
       "        text-align: right;\n",
       "    }\n",
       "</style>\n",
       "<table border=\"1\" class=\"dataframe\">\n",
       "  <thead>\n",
       "    <tr style=\"text-align: right;\">\n",
       "      <th></th>\n",
       "      <th>Date</th>\n",
       "      <th>Profit/Losses</th>\n",
       "    </tr>\n",
       "  </thead>\n",
       "  <tbody>\n",
       "    <tr>\n",
       "      <th>0</th>\n",
       "      <td>Jan-10</td>\n",
       "      <td>1088983</td>\n",
       "    </tr>\n",
       "    <tr>\n",
       "      <th>1</th>\n",
       "      <td>Feb-10</td>\n",
       "      <td>-354534</td>\n",
       "    </tr>\n",
       "    <tr>\n",
       "      <th>2</th>\n",
       "      <td>Mar-10</td>\n",
       "      <td>276622</td>\n",
       "    </tr>\n",
       "    <tr>\n",
       "      <th>3</th>\n",
       "      <td>Apr-10</td>\n",
       "      <td>-728133</td>\n",
       "    </tr>\n",
       "    <tr>\n",
       "      <th>4</th>\n",
       "      <td>May-10</td>\n",
       "      <td>852993</td>\n",
       "    </tr>\n",
       "    <tr>\n",
       "      <th>...</th>\n",
       "      <td>...</td>\n",
       "      <td>...</td>\n",
       "    </tr>\n",
       "    <tr>\n",
       "      <th>81</th>\n",
       "      <td>Oct-16</td>\n",
       "      <td>-729004</td>\n",
       "    </tr>\n",
       "    <tr>\n",
       "      <th>82</th>\n",
       "      <td>Nov-16</td>\n",
       "      <td>-112209</td>\n",
       "    </tr>\n",
       "    <tr>\n",
       "      <th>83</th>\n",
       "      <td>Dec-16</td>\n",
       "      <td>516313</td>\n",
       "    </tr>\n",
       "    <tr>\n",
       "      <th>84</th>\n",
       "      <td>Jan-17</td>\n",
       "      <td>607208</td>\n",
       "    </tr>\n",
       "    <tr>\n",
       "      <th>85</th>\n",
       "      <td>Feb-17</td>\n",
       "      <td>382539</td>\n",
       "    </tr>\n",
       "  </tbody>\n",
       "</table>\n",
       "<p>86 rows × 2 columns</p>\n",
       "</div>"
      ],
      "text/plain": [
       "      Date  Profit/Losses\n",
       "0   Jan-10        1088983\n",
       "1   Feb-10        -354534\n",
       "2   Mar-10         276622\n",
       "3   Apr-10        -728133\n",
       "4   May-10         852993\n",
       "..     ...            ...\n",
       "81  Oct-16        -729004\n",
       "82  Nov-16        -112209\n",
       "83  Dec-16         516313\n",
       "84  Jan-17         607208\n",
       "85  Feb-17         382539\n",
       "\n",
       "[86 rows x 2 columns]"
      ]
     },
     "execution_count": 117,
     "metadata": {},
     "output_type": "execute_result"
    }
   ],
   "source": [
    "#Change in Profit/Loss over the entire period\n",
    "df"
   ]
  },
  {
   "cell_type": "code",
   "execution_count": 140,
   "id": "a79d6067",
   "metadata": {},
   "outputs": [
    {
     "data": {
      "text/html": [
       "<div>\n",
       "<style scoped>\n",
       "    .dataframe tbody tr th:only-of-type {\n",
       "        vertical-align: middle;\n",
       "    }\n",
       "\n",
       "    .dataframe tbody tr th {\n",
       "        vertical-align: top;\n",
       "    }\n",
       "\n",
       "    .dataframe thead th {\n",
       "        text-align: right;\n",
       "    }\n",
       "</style>\n",
       "<table border=\"1\" class=\"dataframe\">\n",
       "  <thead>\n",
       "    <tr style=\"text-align: right;\">\n",
       "      <th></th>\n",
       "      <th>Difference</th>\n",
       "    </tr>\n",
       "  </thead>\n",
       "  <tbody>\n",
       "    <tr>\n",
       "      <th>0</th>\n",
       "      <td>734449</td>\n",
       "    </tr>\n",
       "  </tbody>\n",
       "</table>\n",
       "</div>"
      ],
      "text/plain": [
       "   Difference\n",
       "0      734449"
      ]
     },
     "execution_count": 140,
     "metadata": {},
     "output_type": "execute_result"
    }
   ],
   "source": [
    "#Initialize running list\n",
    "running_difference = pd.DataFrame({'Difference':[df.iloc[0,1] + df.iloc[1,1]]})\n",
    "running_difference"
   ]
  },
  {
   "cell_type": "code",
   "execution_count": 141,
   "id": "134e0e26",
   "metadata": {},
   "outputs": [
    {
     "name": "stderr",
     "output_type": "stream",
     "text": [
      "C:\\Users\\joshu\\AppData\\Local\\Temp\\ipykernel_35548\\2853304663.py:7: FutureWarning: The frame.append method is deprecated and will be removed from pandas in a future version. Use pandas.concat instead.\n",
      "  running_difference = running_difference.append(new_row, ignore_index=True)\n",
      "C:\\Users\\joshu\\AppData\\Local\\Temp\\ipykernel_35548\\2853304663.py:7: FutureWarning: The frame.append method is deprecated and will be removed from pandas in a future version. Use pandas.concat instead.\n",
      "  running_difference = running_difference.append(new_row, ignore_index=True)\n",
      "C:\\Users\\joshu\\AppData\\Local\\Temp\\ipykernel_35548\\2853304663.py:7: FutureWarning: The frame.append method is deprecated and will be removed from pandas in a future version. Use pandas.concat instead.\n",
      "  running_difference = running_difference.append(new_row, ignore_index=True)\n",
      "C:\\Users\\joshu\\AppData\\Local\\Temp\\ipykernel_35548\\2853304663.py:7: FutureWarning: The frame.append method is deprecated and will be removed from pandas in a future version. Use pandas.concat instead.\n",
      "  running_difference = running_difference.append(new_row, ignore_index=True)\n",
      "C:\\Users\\joshu\\AppData\\Local\\Temp\\ipykernel_35548\\2853304663.py:7: FutureWarning: The frame.append method is deprecated and will be removed from pandas in a future version. Use pandas.concat instead.\n",
      "  running_difference = running_difference.append(new_row, ignore_index=True)\n",
      "C:\\Users\\joshu\\AppData\\Local\\Temp\\ipykernel_35548\\2853304663.py:7: FutureWarning: The frame.append method is deprecated and will be removed from pandas in a future version. Use pandas.concat instead.\n",
      "  running_difference = running_difference.append(new_row, ignore_index=True)\n",
      "C:\\Users\\joshu\\AppData\\Local\\Temp\\ipykernel_35548\\2853304663.py:7: FutureWarning: The frame.append method is deprecated and will be removed from pandas in a future version. Use pandas.concat instead.\n",
      "  running_difference = running_difference.append(new_row, ignore_index=True)\n",
      "C:\\Users\\joshu\\AppData\\Local\\Temp\\ipykernel_35548\\2853304663.py:7: FutureWarning: The frame.append method is deprecated and will be removed from pandas in a future version. Use pandas.concat instead.\n",
      "  running_difference = running_difference.append(new_row, ignore_index=True)\n",
      "C:\\Users\\joshu\\AppData\\Local\\Temp\\ipykernel_35548\\2853304663.py:7: FutureWarning: The frame.append method is deprecated and will be removed from pandas in a future version. Use pandas.concat instead.\n",
      "  running_difference = running_difference.append(new_row, ignore_index=True)\n",
      "C:\\Users\\joshu\\AppData\\Local\\Temp\\ipykernel_35548\\2853304663.py:7: FutureWarning: The frame.append method is deprecated and will be removed from pandas in a future version. Use pandas.concat instead.\n",
      "  running_difference = running_difference.append(new_row, ignore_index=True)\n",
      "C:\\Users\\joshu\\AppData\\Local\\Temp\\ipykernel_35548\\2853304663.py:7: FutureWarning: The frame.append method is deprecated and will be removed from pandas in a future version. Use pandas.concat instead.\n",
      "  running_difference = running_difference.append(new_row, ignore_index=True)\n",
      "C:\\Users\\joshu\\AppData\\Local\\Temp\\ipykernel_35548\\2853304663.py:7: FutureWarning: The frame.append method is deprecated and will be removed from pandas in a future version. Use pandas.concat instead.\n",
      "  running_difference = running_difference.append(new_row, ignore_index=True)\n",
      "C:\\Users\\joshu\\AppData\\Local\\Temp\\ipykernel_35548\\2853304663.py:7: FutureWarning: The frame.append method is deprecated and will be removed from pandas in a future version. Use pandas.concat instead.\n",
      "  running_difference = running_difference.append(new_row, ignore_index=True)\n",
      "C:\\Users\\joshu\\AppData\\Local\\Temp\\ipykernel_35548\\2853304663.py:7: FutureWarning: The frame.append method is deprecated and will be removed from pandas in a future version. Use pandas.concat instead.\n",
      "  running_difference = running_difference.append(new_row, ignore_index=True)\n",
      "C:\\Users\\joshu\\AppData\\Local\\Temp\\ipykernel_35548\\2853304663.py:7: FutureWarning: The frame.append method is deprecated and will be removed from pandas in a future version. Use pandas.concat instead.\n",
      "  running_difference = running_difference.append(new_row, ignore_index=True)\n",
      "C:\\Users\\joshu\\AppData\\Local\\Temp\\ipykernel_35548\\2853304663.py:7: FutureWarning: The frame.append method is deprecated and will be removed from pandas in a future version. Use pandas.concat instead.\n",
      "  running_difference = running_difference.append(new_row, ignore_index=True)\n",
      "C:\\Users\\joshu\\AppData\\Local\\Temp\\ipykernel_35548\\2853304663.py:7: FutureWarning: The frame.append method is deprecated and will be removed from pandas in a future version. Use pandas.concat instead.\n",
      "  running_difference = running_difference.append(new_row, ignore_index=True)\n",
      "C:\\Users\\joshu\\AppData\\Local\\Temp\\ipykernel_35548\\2853304663.py:7: FutureWarning: The frame.append method is deprecated and will be removed from pandas in a future version. Use pandas.concat instead.\n",
      "  running_difference = running_difference.append(new_row, ignore_index=True)\n",
      "C:\\Users\\joshu\\AppData\\Local\\Temp\\ipykernel_35548\\2853304663.py:7: FutureWarning: The frame.append method is deprecated and will be removed from pandas in a future version. Use pandas.concat instead.\n",
      "  running_difference = running_difference.append(new_row, ignore_index=True)\n",
      "C:\\Users\\joshu\\AppData\\Local\\Temp\\ipykernel_35548\\2853304663.py:7: FutureWarning: The frame.append method is deprecated and will be removed from pandas in a future version. Use pandas.concat instead.\n",
      "  running_difference = running_difference.append(new_row, ignore_index=True)\n",
      "C:\\Users\\joshu\\AppData\\Local\\Temp\\ipykernel_35548\\2853304663.py:7: FutureWarning: The frame.append method is deprecated and will be removed from pandas in a future version. Use pandas.concat instead.\n",
      "  running_difference = running_difference.append(new_row, ignore_index=True)\n",
      "C:\\Users\\joshu\\AppData\\Local\\Temp\\ipykernel_35548\\2853304663.py:7: FutureWarning: The frame.append method is deprecated and will be removed from pandas in a future version. Use pandas.concat instead.\n",
      "  running_difference = running_difference.append(new_row, ignore_index=True)\n",
      "C:\\Users\\joshu\\AppData\\Local\\Temp\\ipykernel_35548\\2853304663.py:7: FutureWarning: The frame.append method is deprecated and will be removed from pandas in a future version. Use pandas.concat instead.\n",
      "  running_difference = running_difference.append(new_row, ignore_index=True)\n",
      "C:\\Users\\joshu\\AppData\\Local\\Temp\\ipykernel_35548\\2853304663.py:7: FutureWarning: The frame.append method is deprecated and will be removed from pandas in a future version. Use pandas.concat instead.\n",
      "  running_difference = running_difference.append(new_row, ignore_index=True)\n",
      "C:\\Users\\joshu\\AppData\\Local\\Temp\\ipykernel_35548\\2853304663.py:7: FutureWarning: The frame.append method is deprecated and will be removed from pandas in a future version. Use pandas.concat instead.\n",
      "  running_difference = running_difference.append(new_row, ignore_index=True)\n",
      "C:\\Users\\joshu\\AppData\\Local\\Temp\\ipykernel_35548\\2853304663.py:7: FutureWarning: The frame.append method is deprecated and will be removed from pandas in a future version. Use pandas.concat instead.\n",
      "  running_difference = running_difference.append(new_row, ignore_index=True)\n",
      "C:\\Users\\joshu\\AppData\\Local\\Temp\\ipykernel_35548\\2853304663.py:7: FutureWarning: The frame.append method is deprecated and will be removed from pandas in a future version. Use pandas.concat instead.\n",
      "  running_difference = running_difference.append(new_row, ignore_index=True)\n",
      "C:\\Users\\joshu\\AppData\\Local\\Temp\\ipykernel_35548\\2853304663.py:7: FutureWarning: The frame.append method is deprecated and will be removed from pandas in a future version. Use pandas.concat instead.\n",
      "  running_difference = running_difference.append(new_row, ignore_index=True)\n",
      "C:\\Users\\joshu\\AppData\\Local\\Temp\\ipykernel_35548\\2853304663.py:7: FutureWarning: The frame.append method is deprecated and will be removed from pandas in a future version. Use pandas.concat instead.\n",
      "  running_difference = running_difference.append(new_row, ignore_index=True)\n",
      "C:\\Users\\joshu\\AppData\\Local\\Temp\\ipykernel_35548\\2853304663.py:7: FutureWarning: The frame.append method is deprecated and will be removed from pandas in a future version. Use pandas.concat instead.\n",
      "  running_difference = running_difference.append(new_row, ignore_index=True)\n",
      "C:\\Users\\joshu\\AppData\\Local\\Temp\\ipykernel_35548\\2853304663.py:7: FutureWarning: The frame.append method is deprecated and will be removed from pandas in a future version. Use pandas.concat instead.\n",
      "  running_difference = running_difference.append(new_row, ignore_index=True)\n",
      "C:\\Users\\joshu\\AppData\\Local\\Temp\\ipykernel_35548\\2853304663.py:7: FutureWarning: The frame.append method is deprecated and will be removed from pandas in a future version. Use pandas.concat instead.\n",
      "  running_difference = running_difference.append(new_row, ignore_index=True)\n",
      "C:\\Users\\joshu\\AppData\\Local\\Temp\\ipykernel_35548\\2853304663.py:7: FutureWarning: The frame.append method is deprecated and will be removed from pandas in a future version. Use pandas.concat instead.\n",
      "  running_difference = running_difference.append(new_row, ignore_index=True)\n",
      "C:\\Users\\joshu\\AppData\\Local\\Temp\\ipykernel_35548\\2853304663.py:7: FutureWarning: The frame.append method is deprecated and will be removed from pandas in a future version. Use pandas.concat instead.\n",
      "  running_difference = running_difference.append(new_row, ignore_index=True)\n",
      "C:\\Users\\joshu\\AppData\\Local\\Temp\\ipykernel_35548\\2853304663.py:7: FutureWarning: The frame.append method is deprecated and will be removed from pandas in a future version. Use pandas.concat instead.\n",
      "  running_difference = running_difference.append(new_row, ignore_index=True)\n",
      "C:\\Users\\joshu\\AppData\\Local\\Temp\\ipykernel_35548\\2853304663.py:7: FutureWarning: The frame.append method is deprecated and will be removed from pandas in a future version. Use pandas.concat instead.\n",
      "  running_difference = running_difference.append(new_row, ignore_index=True)\n",
      "C:\\Users\\joshu\\AppData\\Local\\Temp\\ipykernel_35548\\2853304663.py:7: FutureWarning: The frame.append method is deprecated and will be removed from pandas in a future version. Use pandas.concat instead.\n",
      "  running_difference = running_difference.append(new_row, ignore_index=True)\n",
      "C:\\Users\\joshu\\AppData\\Local\\Temp\\ipykernel_35548\\2853304663.py:7: FutureWarning: The frame.append method is deprecated and will be removed from pandas in a future version. Use pandas.concat instead.\n",
      "  running_difference = running_difference.append(new_row, ignore_index=True)\n",
      "C:\\Users\\joshu\\AppData\\Local\\Temp\\ipykernel_35548\\2853304663.py:7: FutureWarning: The frame.append method is deprecated and will be removed from pandas in a future version. Use pandas.concat instead.\n",
      "  running_difference = running_difference.append(new_row, ignore_index=True)\n",
      "C:\\Users\\joshu\\AppData\\Local\\Temp\\ipykernel_35548\\2853304663.py:7: FutureWarning: The frame.append method is deprecated and will be removed from pandas in a future version. Use pandas.concat instead.\n",
      "  running_difference = running_difference.append(new_row, ignore_index=True)\n",
      "C:\\Users\\joshu\\AppData\\Local\\Temp\\ipykernel_35548\\2853304663.py:7: FutureWarning: The frame.append method is deprecated and will be removed from pandas in a future version. Use pandas.concat instead.\n",
      "  running_difference = running_difference.append(new_row, ignore_index=True)\n",
      "C:\\Users\\joshu\\AppData\\Local\\Temp\\ipykernel_35548\\2853304663.py:7: FutureWarning: The frame.append method is deprecated and will be removed from pandas in a future version. Use pandas.concat instead.\n",
      "  running_difference = running_difference.append(new_row, ignore_index=True)\n",
      "C:\\Users\\joshu\\AppData\\Local\\Temp\\ipykernel_35548\\2853304663.py:7: FutureWarning: The frame.append method is deprecated and will be removed from pandas in a future version. Use pandas.concat instead.\n",
      "  running_difference = running_difference.append(new_row, ignore_index=True)\n",
      "C:\\Users\\joshu\\AppData\\Local\\Temp\\ipykernel_35548\\2853304663.py:7: FutureWarning: The frame.append method is deprecated and will be removed from pandas in a future version. Use pandas.concat instead.\n",
      "  running_difference = running_difference.append(new_row, ignore_index=True)\n",
      "C:\\Users\\joshu\\AppData\\Local\\Temp\\ipykernel_35548\\2853304663.py:7: FutureWarning: The frame.append method is deprecated and will be removed from pandas in a future version. Use pandas.concat instead.\n",
      "  running_difference = running_difference.append(new_row, ignore_index=True)\n",
      "C:\\Users\\joshu\\AppData\\Local\\Temp\\ipykernel_35548\\2853304663.py:7: FutureWarning: The frame.append method is deprecated and will be removed from pandas in a future version. Use pandas.concat instead.\n",
      "  running_difference = running_difference.append(new_row, ignore_index=True)\n",
      "C:\\Users\\joshu\\AppData\\Local\\Temp\\ipykernel_35548\\2853304663.py:7: FutureWarning: The frame.append method is deprecated and will be removed from pandas in a future version. Use pandas.concat instead.\n",
      "  running_difference = running_difference.append(new_row, ignore_index=True)\n",
      "C:\\Users\\joshu\\AppData\\Local\\Temp\\ipykernel_35548\\2853304663.py:7: FutureWarning: The frame.append method is deprecated and will be removed from pandas in a future version. Use pandas.concat instead.\n",
      "  running_difference = running_difference.append(new_row, ignore_index=True)\n",
      "C:\\Users\\joshu\\AppData\\Local\\Temp\\ipykernel_35548\\2853304663.py:7: FutureWarning: The frame.append method is deprecated and will be removed from pandas in a future version. Use pandas.concat instead.\n",
      "  running_difference = running_difference.append(new_row, ignore_index=True)\n",
      "C:\\Users\\joshu\\AppData\\Local\\Temp\\ipykernel_35548\\2853304663.py:7: FutureWarning: The frame.append method is deprecated and will be removed from pandas in a future version. Use pandas.concat instead.\n",
      "  running_difference = running_difference.append(new_row, ignore_index=True)\n",
      "C:\\Users\\joshu\\AppData\\Local\\Temp\\ipykernel_35548\\2853304663.py:7: FutureWarning: The frame.append method is deprecated and will be removed from pandas in a future version. Use pandas.concat instead.\n",
      "  running_difference = running_difference.append(new_row, ignore_index=True)\n",
      "C:\\Users\\joshu\\AppData\\Local\\Temp\\ipykernel_35548\\2853304663.py:7: FutureWarning: The frame.append method is deprecated and will be removed from pandas in a future version. Use pandas.concat instead.\n",
      "  running_difference = running_difference.append(new_row, ignore_index=True)\n",
      "C:\\Users\\joshu\\AppData\\Local\\Temp\\ipykernel_35548\\2853304663.py:7: FutureWarning: The frame.append method is deprecated and will be removed from pandas in a future version. Use pandas.concat instead.\n",
      "  running_difference = running_difference.append(new_row, ignore_index=True)\n",
      "C:\\Users\\joshu\\AppData\\Local\\Temp\\ipykernel_35548\\2853304663.py:7: FutureWarning: The frame.append method is deprecated and will be removed from pandas in a future version. Use pandas.concat instead.\n",
      "  running_difference = running_difference.append(new_row, ignore_index=True)\n",
      "C:\\Users\\joshu\\AppData\\Local\\Temp\\ipykernel_35548\\2853304663.py:7: FutureWarning: The frame.append method is deprecated and will be removed from pandas in a future version. Use pandas.concat instead.\n",
      "  running_difference = running_difference.append(new_row, ignore_index=True)\n",
      "C:\\Users\\joshu\\AppData\\Local\\Temp\\ipykernel_35548\\2853304663.py:7: FutureWarning: The frame.append method is deprecated and will be removed from pandas in a future version. Use pandas.concat instead.\n",
      "  running_difference = running_difference.append(new_row, ignore_index=True)\n",
      "C:\\Users\\joshu\\AppData\\Local\\Temp\\ipykernel_35548\\2853304663.py:7: FutureWarning: The frame.append method is deprecated and will be removed from pandas in a future version. Use pandas.concat instead.\n",
      "  running_difference = running_difference.append(new_row, ignore_index=True)\n",
      "C:\\Users\\joshu\\AppData\\Local\\Temp\\ipykernel_35548\\2853304663.py:7: FutureWarning: The frame.append method is deprecated and will be removed from pandas in a future version. Use pandas.concat instead.\n",
      "  running_difference = running_difference.append(new_row, ignore_index=True)\n",
      "C:\\Users\\joshu\\AppData\\Local\\Temp\\ipykernel_35548\\2853304663.py:7: FutureWarning: The frame.append method is deprecated and will be removed from pandas in a future version. Use pandas.concat instead.\n",
      "  running_difference = running_difference.append(new_row, ignore_index=True)\n",
      "C:\\Users\\joshu\\AppData\\Local\\Temp\\ipykernel_35548\\2853304663.py:7: FutureWarning: The frame.append method is deprecated and will be removed from pandas in a future version. Use pandas.concat instead.\n",
      "  running_difference = running_difference.append(new_row, ignore_index=True)\n",
      "C:\\Users\\joshu\\AppData\\Local\\Temp\\ipykernel_35548\\2853304663.py:7: FutureWarning: The frame.append method is deprecated and will be removed from pandas in a future version. Use pandas.concat instead.\n",
      "  running_difference = running_difference.append(new_row, ignore_index=True)\n",
      "C:\\Users\\joshu\\AppData\\Local\\Temp\\ipykernel_35548\\2853304663.py:7: FutureWarning: The frame.append method is deprecated and will be removed from pandas in a future version. Use pandas.concat instead.\n",
      "  running_difference = running_difference.append(new_row, ignore_index=True)\n",
      "C:\\Users\\joshu\\AppData\\Local\\Temp\\ipykernel_35548\\2853304663.py:7: FutureWarning: The frame.append method is deprecated and will be removed from pandas in a future version. Use pandas.concat instead.\n",
      "  running_difference = running_difference.append(new_row, ignore_index=True)\n",
      "C:\\Users\\joshu\\AppData\\Local\\Temp\\ipykernel_35548\\2853304663.py:7: FutureWarning: The frame.append method is deprecated and will be removed from pandas in a future version. Use pandas.concat instead.\n",
      "  running_difference = running_difference.append(new_row, ignore_index=True)\n",
      "C:\\Users\\joshu\\AppData\\Local\\Temp\\ipykernel_35548\\2853304663.py:7: FutureWarning: The frame.append method is deprecated and will be removed from pandas in a future version. Use pandas.concat instead.\n",
      "  running_difference = running_difference.append(new_row, ignore_index=True)\n",
      "C:\\Users\\joshu\\AppData\\Local\\Temp\\ipykernel_35548\\2853304663.py:7: FutureWarning: The frame.append method is deprecated and will be removed from pandas in a future version. Use pandas.concat instead.\n",
      "  running_difference = running_difference.append(new_row, ignore_index=True)\n",
      "C:\\Users\\joshu\\AppData\\Local\\Temp\\ipykernel_35548\\2853304663.py:7: FutureWarning: The frame.append method is deprecated and will be removed from pandas in a future version. Use pandas.concat instead.\n",
      "  running_difference = running_difference.append(new_row, ignore_index=True)\n",
      "C:\\Users\\joshu\\AppData\\Local\\Temp\\ipykernel_35548\\2853304663.py:7: FutureWarning: The frame.append method is deprecated and will be removed from pandas in a future version. Use pandas.concat instead.\n",
      "  running_difference = running_difference.append(new_row, ignore_index=True)\n",
      "C:\\Users\\joshu\\AppData\\Local\\Temp\\ipykernel_35548\\2853304663.py:7: FutureWarning: The frame.append method is deprecated and will be removed from pandas in a future version. Use pandas.concat instead.\n",
      "  running_difference = running_difference.append(new_row, ignore_index=True)\n",
      "C:\\Users\\joshu\\AppData\\Local\\Temp\\ipykernel_35548\\2853304663.py:7: FutureWarning: The frame.append method is deprecated and will be removed from pandas in a future version. Use pandas.concat instead.\n",
      "  running_difference = running_difference.append(new_row, ignore_index=True)\n",
      "C:\\Users\\joshu\\AppData\\Local\\Temp\\ipykernel_35548\\2853304663.py:7: FutureWarning: The frame.append method is deprecated and will be removed from pandas in a future version. Use pandas.concat instead.\n",
      "  running_difference = running_difference.append(new_row, ignore_index=True)\n",
      "C:\\Users\\joshu\\AppData\\Local\\Temp\\ipykernel_35548\\2853304663.py:7: FutureWarning: The frame.append method is deprecated and will be removed from pandas in a future version. Use pandas.concat instead.\n",
      "  running_difference = running_difference.append(new_row, ignore_index=True)\n",
      "C:\\Users\\joshu\\AppData\\Local\\Temp\\ipykernel_35548\\2853304663.py:7: FutureWarning: The frame.append method is deprecated and will be removed from pandas in a future version. Use pandas.concat instead.\n",
      "  running_difference = running_difference.append(new_row, ignore_index=True)\n",
      "C:\\Users\\joshu\\AppData\\Local\\Temp\\ipykernel_35548\\2853304663.py:7: FutureWarning: The frame.append method is deprecated and will be removed from pandas in a future version. Use pandas.concat instead.\n",
      "  running_difference = running_difference.append(new_row, ignore_index=True)\n",
      "C:\\Users\\joshu\\AppData\\Local\\Temp\\ipykernel_35548\\2853304663.py:7: FutureWarning: The frame.append method is deprecated and will be removed from pandas in a future version. Use pandas.concat instead.\n",
      "  running_difference = running_difference.append(new_row, ignore_index=True)\n",
      "C:\\Users\\joshu\\AppData\\Local\\Temp\\ipykernel_35548\\2853304663.py:7: FutureWarning: The frame.append method is deprecated and will be removed from pandas in a future version. Use pandas.concat instead.\n",
      "  running_difference = running_difference.append(new_row, ignore_index=True)\n",
      "C:\\Users\\joshu\\AppData\\Local\\Temp\\ipykernel_35548\\2853304663.py:7: FutureWarning: The frame.append method is deprecated and will be removed from pandas in a future version. Use pandas.concat instead.\n",
      "  running_difference = running_difference.append(new_row, ignore_index=True)\n",
      "C:\\Users\\joshu\\AppData\\Local\\Temp\\ipykernel_35548\\2853304663.py:7: FutureWarning: The frame.append method is deprecated and will be removed from pandas in a future version. Use pandas.concat instead.\n",
      "  running_difference = running_difference.append(new_row, ignore_index=True)\n",
      "C:\\Users\\joshu\\AppData\\Local\\Temp\\ipykernel_35548\\2853304663.py:7: FutureWarning: The frame.append method is deprecated and will be removed from pandas in a future version. Use pandas.concat instead.\n",
      "  running_difference = running_difference.append(new_row, ignore_index=True)\n",
      "C:\\Users\\joshu\\AppData\\Local\\Temp\\ipykernel_35548\\2853304663.py:7: FutureWarning: The frame.append method is deprecated and will be removed from pandas in a future version. Use pandas.concat instead.\n",
      "  running_difference = running_difference.append(new_row, ignore_index=True)\n",
      "C:\\Users\\joshu\\AppData\\Local\\Temp\\ipykernel_35548\\2853304663.py:7: FutureWarning: The frame.append method is deprecated and will be removed from pandas in a future version. Use pandas.concat instead.\n",
      "  running_difference = running_difference.append(new_row, ignore_index=True)\n",
      "C:\\Users\\joshu\\AppData\\Local\\Temp\\ipykernel_35548\\2853304663.py:7: FutureWarning: The frame.append method is deprecated and will be removed from pandas in a future version. Use pandas.concat instead.\n",
      "  running_difference = running_difference.append(new_row, ignore_index=True)\n",
      "C:\\Users\\joshu\\AppData\\Local\\Temp\\ipykernel_35548\\2853304663.py:7: FutureWarning: The frame.append method is deprecated and will be removed from pandas in a future version. Use pandas.concat instead.\n",
      "  running_difference = running_difference.append(new_row, ignore_index=True)\n",
      "C:\\Users\\joshu\\AppData\\Local\\Temp\\ipykernel_35548\\2853304663.py:7: FutureWarning: The frame.append method is deprecated and will be removed from pandas in a future version. Use pandas.concat instead.\n",
      "  running_difference = running_difference.append(new_row, ignore_index=True)\n"
     ]
    },
    {
     "data": {
      "text/html": [
       "<div>\n",
       "<style scoped>\n",
       "    .dataframe tbody tr th:only-of-type {\n",
       "        vertical-align: middle;\n",
       "    }\n",
       "\n",
       "    .dataframe tbody tr th {\n",
       "        vertical-align: top;\n",
       "    }\n",
       "\n",
       "    .dataframe thead th {\n",
       "        text-align: right;\n",
       "    }\n",
       "</style>\n",
       "<table border=\"1\" class=\"dataframe\">\n",
       "  <thead>\n",
       "    <tr style=\"text-align: right;\">\n",
       "      <th></th>\n",
       "      <th>Difference</th>\n",
       "    </tr>\n",
       "  </thead>\n",
       "  <tbody>\n",
       "    <tr>\n",
       "      <th>0</th>\n",
       "      <td>734449</td>\n",
       "    </tr>\n",
       "    <tr>\n",
       "      <th>1</th>\n",
       "      <td>[-77912]</td>\n",
       "    </tr>\n",
       "    <tr>\n",
       "      <th>2</th>\n",
       "      <td>[-451511]</td>\n",
       "    </tr>\n",
       "    <tr>\n",
       "      <th>3</th>\n",
       "      <td>[124860]</td>\n",
       "    </tr>\n",
       "    <tr>\n",
       "      <th>4</th>\n",
       "      <td>[1416714]</td>\n",
       "    </tr>\n",
       "    <tr>\n",
       "      <th>...</th>\n",
       "      <td>...</td>\n",
       "    </tr>\n",
       "    <tr>\n",
       "      <th>80</th>\n",
       "      <td>[169237]</td>\n",
       "    </tr>\n",
       "    <tr>\n",
       "      <th>81</th>\n",
       "      <td>[-841213]</td>\n",
       "    </tr>\n",
       "    <tr>\n",
       "      <th>82</th>\n",
       "      <td>[404104]</td>\n",
       "    </tr>\n",
       "    <tr>\n",
       "      <th>83</th>\n",
       "      <td>[1123521]</td>\n",
       "    </tr>\n",
       "    <tr>\n",
       "      <th>84</th>\n",
       "      <td>[989747]</td>\n",
       "    </tr>\n",
       "  </tbody>\n",
       "</table>\n",
       "<p>85 rows × 1 columns</p>\n",
       "</div>"
      ],
      "text/plain": [
       "   Difference\n",
       "0      734449\n",
       "1    [-77912]\n",
       "2   [-451511]\n",
       "3    [124860]\n",
       "4   [1416714]\n",
       "..        ...\n",
       "80   [169237]\n",
       "81  [-841213]\n",
       "82   [404104]\n",
       "83  [1123521]\n",
       "84   [989747]\n",
       "\n",
       "[85 rows x 1 columns]"
      ]
     },
     "execution_count": 141,
     "metadata": {},
     "output_type": "execute_result"
    }
   ],
   "source": [
    "#Initialize counter\n",
    "counter = 1\n",
    "\n",
    "#Loop to create running difference list\n",
    "for x in range(row_count):\n",
    "   new_row = {'Difference':[df.iloc[counter,1] + df.iloc[counter + 1,1]]}\n",
    "   running_difference = running_difference.append(new_row, ignore_index=True)\n",
    "   counter = counter + 1\n",
    "running_difference"
   ]
  },
  {
   "cell_type": "code",
   "execution_count": 144,
   "id": "ba52c129",
   "metadata": {},
   "outputs": [
    {
     "ename": "ValueError",
     "evalue": "the 'dtype' parameter is not supported in the pandas implementation of mean()",
     "output_type": "error",
     "traceback": [
      "\u001b[1;31m---------------------------------------------------------------------------\u001b[0m",
      "\u001b[1;31mValueError\u001b[0m                                Traceback (most recent call last)",
      "\u001b[1;32mc:\\Users\\joshu\\Analytics\\Bootcamp\\MyRepo\\python-challenge\\PyBank\\main.ipynb Cell 10\u001b[0m in \u001b[0;36m<cell line: 2>\u001b[1;34m()\u001b[0m\n\u001b[0;32m      <a href='vscode-notebook-cell:/c%3A/Users/joshu/Analytics/Bootcamp/MyRepo/python-challenge/PyBank/main.ipynb#X13sZmlsZQ%3D%3D?line=0'>1</a>\u001b[0m \u001b[39m#Convert to int data type\u001b[39;00m\n\u001b[1;32m----> <a href='vscode-notebook-cell:/c%3A/Users/joshu/Analytics/Bootcamp/MyRepo/python-challenge/PyBank/main.ipynb#X13sZmlsZQ%3D%3D?line=1'>2</a>\u001b[0m average_running_difference \u001b[39m=\u001b[39m numpy\u001b[39m.\u001b[39;49mmean(running_difference, dtype\u001b[39m=\u001b[39;49m\u001b[39mfloat\u001b[39;49m)\n\u001b[0;32m      <a href='vscode-notebook-cell:/c%3A/Users/joshu/Analytics/Bootcamp/MyRepo/python-challenge/PyBank/main.ipynb#X13sZmlsZQ%3D%3D?line=2'>3</a>\u001b[0m average_running_difference\n",
      "File \u001b[1;32m<__array_function__ internals>:5\u001b[0m, in \u001b[0;36mmean\u001b[1;34m(*args, **kwargs)\u001b[0m\n",
      "File \u001b[1;32mc:\\Users\\joshu\\anaconda3\\lib\\site-packages\\numpy\\core\\fromnumeric.py:3438\u001b[0m, in \u001b[0;36mmean\u001b[1;34m(a, axis, dtype, out, keepdims, where)\u001b[0m\n\u001b[0;32m   3436\u001b[0m         \u001b[39mpass\u001b[39;00m\n\u001b[0;32m   3437\u001b[0m     \u001b[39melse\u001b[39;00m:\n\u001b[1;32m-> 3438\u001b[0m         \u001b[39mreturn\u001b[39;00m mean(axis\u001b[39m=\u001b[39maxis, dtype\u001b[39m=\u001b[39mdtype, out\u001b[39m=\u001b[39mout, \u001b[39m*\u001b[39m\u001b[39m*\u001b[39mkwargs)\n\u001b[0;32m   3440\u001b[0m \u001b[39mreturn\u001b[39;00m _methods\u001b[39m.\u001b[39m_mean(a, axis\u001b[39m=\u001b[39maxis, dtype\u001b[39m=\u001b[39mdtype,\n\u001b[0;32m   3441\u001b[0m                       out\u001b[39m=\u001b[39mout, \u001b[39m*\u001b[39m\u001b[39m*\u001b[39mkwargs)\n",
      "File \u001b[1;32mc:\\Users\\joshu\\anaconda3\\lib\\site-packages\\pandas\\core\\generic.py:11117\u001b[0m, in \u001b[0;36mNDFrame._add_numeric_operations.<locals>.mean\u001b[1;34m(self, axis, skipna, level, numeric_only, **kwargs)\u001b[0m\n\u001b[0;32m  11099\u001b[0m \u001b[39m@doc\u001b[39m(\n\u001b[0;32m  11100\u001b[0m     _num_doc,\n\u001b[0;32m  11101\u001b[0m     desc\u001b[39m=\u001b[39m\u001b[39m\"\u001b[39m\u001b[39mReturn the mean of the values over the requested axis.\u001b[39m\u001b[39m\"\u001b[39m,\n\u001b[1;32m   (...)\u001b[0m\n\u001b[0;32m  11115\u001b[0m     \u001b[39m*\u001b[39m\u001b[39m*\u001b[39mkwargs,\n\u001b[0;32m  11116\u001b[0m ):\n\u001b[1;32m> 11117\u001b[0m     \u001b[39mreturn\u001b[39;00m NDFrame\u001b[39m.\u001b[39mmean(\u001b[39mself\u001b[39m, axis, skipna, level, numeric_only, \u001b[39m*\u001b[39m\u001b[39m*\u001b[39mkwargs)\n",
      "File \u001b[1;32mc:\\Users\\joshu\\anaconda3\\lib\\site-packages\\pandas\\core\\generic.py:10687\u001b[0m, in \u001b[0;36mNDFrame.mean\u001b[1;34m(self, axis, skipna, level, numeric_only, **kwargs)\u001b[0m\n\u001b[0;32m  10679\u001b[0m \u001b[39mdef\u001b[39;00m \u001b[39mmean\u001b[39m(\n\u001b[0;32m  10680\u001b[0m     \u001b[39mself\u001b[39m,\n\u001b[0;32m  10681\u001b[0m     axis: Axis \u001b[39m|\u001b[39m \u001b[39mNone\u001b[39;00m \u001b[39m|\u001b[39m lib\u001b[39m.\u001b[39mNoDefault \u001b[39m=\u001b[39m lib\u001b[39m.\u001b[39mno_default,\n\u001b[1;32m   (...)\u001b[0m\n\u001b[0;32m  10685\u001b[0m     \u001b[39m*\u001b[39m\u001b[39m*\u001b[39mkwargs,\n\u001b[0;32m  10686\u001b[0m ) \u001b[39m-\u001b[39m\u001b[39m>\u001b[39m Series \u001b[39m|\u001b[39m \u001b[39mfloat\u001b[39m:\n\u001b[1;32m> 10687\u001b[0m     \u001b[39mreturn\u001b[39;00m \u001b[39mself\u001b[39m\u001b[39m.\u001b[39m_stat_function(\n\u001b[0;32m  10688\u001b[0m         \u001b[39m\"\u001b[39m\u001b[39mmean\u001b[39m\u001b[39m\"\u001b[39m, nanops\u001b[39m.\u001b[39mnanmean, axis, skipna, level, numeric_only, \u001b[39m*\u001b[39m\u001b[39m*\u001b[39mkwargs\n\u001b[0;32m  10689\u001b[0m     )\n",
      "File \u001b[1;32mc:\\Users\\joshu\\anaconda3\\lib\\site-packages\\pandas\\core\\generic.py:10608\u001b[0m, in \u001b[0;36mNDFrame._stat_function\u001b[1;34m(self, name, func, axis, skipna, level, numeric_only, **kwargs)\u001b[0m\n\u001b[0;32m  10606\u001b[0m     nv\u001b[39m.\u001b[39mvalidate_median((), kwargs)\n\u001b[0;32m  10607\u001b[0m \u001b[39melse\u001b[39;00m:\n\u001b[1;32m> 10608\u001b[0m     nv\u001b[39m.\u001b[39;49mvalidate_stat_func((), kwargs, fname\u001b[39m=\u001b[39;49mname)\n\u001b[0;32m  10610\u001b[0m validate_bool_kwarg(skipna, \u001b[39m\"\u001b[39m\u001b[39mskipna\u001b[39m\u001b[39m\"\u001b[39m, none_allowed\u001b[39m=\u001b[39m\u001b[39mFalse\u001b[39;00m)\n\u001b[0;32m  10612\u001b[0m \u001b[39mif\u001b[39;00m axis \u001b[39mis\u001b[39;00m \u001b[39mNone\u001b[39;00m \u001b[39mand\u001b[39;00m level \u001b[39mis\u001b[39;00m \u001b[39mNone\u001b[39;00m \u001b[39mand\u001b[39;00m \u001b[39mself\u001b[39m\u001b[39m.\u001b[39mndim \u001b[39m>\u001b[39m \u001b[39m1\u001b[39m:\n\u001b[0;32m  10613\u001b[0m     \u001b[39m# user must have explicitly passed axis=None\u001b[39;00m\n\u001b[0;32m  10614\u001b[0m     \u001b[39m# GH#21597\u001b[39;00m\n",
      "File \u001b[1;32mc:\\Users\\joshu\\anaconda3\\lib\\site-packages\\pandas\\compat\\numpy\\function.py:69\u001b[0m, in \u001b[0;36mCompatValidator.__call__\u001b[1;34m(self, args, kwargs, fname, max_fname_arg_count, method)\u001b[0m\n\u001b[0;32m     67\u001b[0m     validate_args(fname, args, max_fname_arg_count, \u001b[39mself\u001b[39m\u001b[39m.\u001b[39mdefaults)\n\u001b[0;32m     68\u001b[0m \u001b[39melif\u001b[39;00m method \u001b[39m==\u001b[39m \u001b[39m\"\u001b[39m\u001b[39mkwargs\u001b[39m\u001b[39m\"\u001b[39m:\n\u001b[1;32m---> 69\u001b[0m     validate_kwargs(fname, kwargs, \u001b[39mself\u001b[39;49m\u001b[39m.\u001b[39;49mdefaults)\n\u001b[0;32m     70\u001b[0m \u001b[39melif\u001b[39;00m method \u001b[39m==\u001b[39m \u001b[39m\"\u001b[39m\u001b[39mboth\u001b[39m\u001b[39m\"\u001b[39m:\n\u001b[0;32m     71\u001b[0m     validate_args_and_kwargs(\n\u001b[0;32m     72\u001b[0m         fname, args, kwargs, max_fname_arg_count, \u001b[39mself\u001b[39m\u001b[39m.\u001b[39mdefaults\n\u001b[0;32m     73\u001b[0m     )\n",
      "File \u001b[1;32mc:\\Users\\joshu\\anaconda3\\lib\\site-packages\\pandas\\util\\_validators.py:159\u001b[0m, in \u001b[0;36mvalidate_kwargs\u001b[1;34m(fname, kwargs, compat_args)\u001b[0m\n\u001b[0;32m    157\u001b[0m kwds \u001b[39m=\u001b[39m kwargs\u001b[39m.\u001b[39mcopy()\n\u001b[0;32m    158\u001b[0m _check_for_invalid_keys(fname, kwargs, compat_args)\n\u001b[1;32m--> 159\u001b[0m _check_for_default_values(fname, kwds, compat_args)\n",
      "File \u001b[1;32mc:\\Users\\joshu\\anaconda3\\lib\\site-packages\\pandas\\util\\_validators.py:75\u001b[0m, in \u001b[0;36m_check_for_default_values\u001b[1;34m(fname, arg_val_dict, compat_args)\u001b[0m\n\u001b[0;32m     72\u001b[0m     match \u001b[39m=\u001b[39m arg_val_dict[key] \u001b[39mis\u001b[39;00m compat_args[key]\n\u001b[0;32m     74\u001b[0m \u001b[39mif\u001b[39;00m \u001b[39mnot\u001b[39;00m match:\n\u001b[1;32m---> 75\u001b[0m     \u001b[39mraise\u001b[39;00m \u001b[39mValueError\u001b[39;00m(\n\u001b[0;32m     76\u001b[0m         \u001b[39mf\u001b[39m\u001b[39m\"\u001b[39m\u001b[39mthe \u001b[39m\u001b[39m'\u001b[39m\u001b[39m{\u001b[39;00mkey\u001b[39m}\u001b[39;00m\u001b[39m'\u001b[39m\u001b[39m parameter is not supported in \u001b[39m\u001b[39m\"\u001b[39m\n\u001b[0;32m     77\u001b[0m         \u001b[39mf\u001b[39m\u001b[39m\"\u001b[39m\u001b[39mthe pandas implementation of \u001b[39m\u001b[39m{\u001b[39;00mfname\u001b[39m}\u001b[39;00m\u001b[39m()\u001b[39m\u001b[39m\"\u001b[39m\n\u001b[0;32m     78\u001b[0m     )\n",
      "\u001b[1;31mValueError\u001b[0m: the 'dtype' parameter is not supported in the pandas implementation of mean()"
     ]
    }
   ],
   "source": [
    "#Convert to int data type\n",
    "average_running_difference = numpy.mean(running_difference, dtype=float)\n",
    "average_running_difference"
   ]
  },
  {
   "cell_type": "code",
   "execution_count": 151,
   "id": "441fe46b",
   "metadata": {},
   "outputs": [
    {
     "name": "stdout",
     "output_type": "stream",
     "text": [
      "Financial Analysis\n",
      "--------------------\n",
      "Total Months: 84\n",
      "Total: 22564198\n"
     ]
    },
    {
     "ename": "TypeError",
     "evalue": "unsupported operand type(s) for +: 'NoneType' and 'NoneType'",
     "output_type": "error",
     "traceback": [
      "\u001b[1;31m---------------------------------------------------------------------------\u001b[0m",
      "\u001b[1;31mTypeError\u001b[0m                                 Traceback (most recent call last)",
      "\u001b[1;32mc:\\Users\\joshu\\Analytics\\Bootcamp\\MyRepo\\python-challenge\\PyBank\\main.ipynb Cell 11\u001b[0m in \u001b[0;36m<cell line: 10>\u001b[1;34m()\u001b[0m\n\u001b[0;32m      <a href='vscode-notebook-cell:/c%3A/Users/joshu/Analytics/Bootcamp/MyRepo/python-challenge/PyBank/main.ipynb#X14sZmlsZQ%3D%3D?line=5'>6</a>\u001b[0m line4 \u001b[39m=\u001b[39m \u001b[39mprint\u001b[39m(\u001b[39m'\u001b[39m\u001b[39mTotal: \u001b[39m\u001b[39m'\u001b[39m \u001b[39m+\u001b[39m \u001b[39mstr\u001b[39m(net_profit))\n\u001b[0;32m      <a href='vscode-notebook-cell:/c%3A/Users/joshu/Analytics/Bootcamp/MyRepo/python-challenge/PyBank/main.ipynb#X14sZmlsZQ%3D%3D?line=6'>7</a>\u001b[0m \u001b[39m#print('Average Change: ' + average_running_difference)\u001b[39;00m\n\u001b[0;32m      <a href='vscode-notebook-cell:/c%3A/Users/joshu/Analytics/Bootcamp/MyRepo/python-challenge/PyBank/main.ipynb#X14sZmlsZQ%3D%3D?line=7'>8</a>\u001b[0m \u001b[39m#print('Greatest Increase in Profits: ' + ??)\u001b[39;00m\n\u001b[0;32m      <a href='vscode-notebook-cell:/c%3A/Users/joshu/Analytics/Bootcamp/MyRepo/python-challenge/PyBank/main.ipynb#X14sZmlsZQ%3D%3D?line=8'>9</a>\u001b[0m \u001b[39m#print('Greatest Decrease in Profits: ' + ??)\u001b[39;00m\n\u001b[1;32m---> <a href='vscode-notebook-cell:/c%3A/Users/joshu/Analytics/Bootcamp/MyRepo/python-challenge/PyBank/main.ipynb#X14sZmlsZQ%3D%3D?line=9'>10</a>\u001b[0m final_message \u001b[39m=\u001b[39m line1 \u001b[39m+\u001b[39;49m line2 \u001b[39m+\u001b[39m line3 \u001b[39m+\u001b[39m line4\n\u001b[0;32m     <a href='vscode-notebook-cell:/c%3A/Users/joshu/Analytics/Bootcamp/MyRepo/python-challenge/PyBank/main.ipynb#X14sZmlsZQ%3D%3D?line=10'>11</a>\u001b[0m final_message\n",
      "\u001b[1;31mTypeError\u001b[0m: unsupported operand type(s) for +: 'NoneType' and 'NoneType'"
     ]
    }
   ],
   "source": [
    "#Print Statement\n",
    "\n",
    "line1 = print('Financial Analysis')\n",
    "line2 = print('--------------------')\n",
    "line3 = print('Total Months: ' + str(row_count))\n",
    "line4 = print('Total: ' + str(net_profit))\n",
    "#print('Average Change: ' + average_running_difference)\n",
    "#print('Greatest Increase in Profits: ' + ??)\n",
    "#print('Greatest Decrease in Profits: ' + ??)\n",
    "final_message = line1 + line2 + line3 + line4\n",
    "final_message"
   ]
  },
  {
   "cell_type": "code",
   "execution_count": 157,
   "id": "27128824",
   "metadata": {},
   "outputs": [
    {
     "ename": "NameError",
     "evalue": "name 'final_message' is not defined",
     "output_type": "error",
     "traceback": [
      "\u001b[1;31m---------------------------------------------------------------------------\u001b[0m",
      "\u001b[1;31mNameError\u001b[0m                                 Traceback (most recent call last)",
      "\u001b[1;32mc:\\Users\\joshu\\Analytics\\Bootcamp\\MyRepo\\python-challenge\\PyBank\\main.ipynb Cell 12\u001b[0m in \u001b[0;36m<cell line: 2>\u001b[1;34m()\u001b[0m\n\u001b[0;32m      <a href='vscode-notebook-cell:/c%3A/Users/joshu/Analytics/Bootcamp/MyRepo/python-challenge/PyBank/main.ipynb#X15sZmlsZQ%3D%3D?line=0'>1</a>\u001b[0m \u001b[39m#To CSV\u001b[39;00m\n\u001b[1;32m----> <a href='vscode-notebook-cell:/c%3A/Users/joshu/Analytics/Bootcamp/MyRepo/python-challenge/PyBank/main.ipynb#X15sZmlsZQ%3D%3D?line=1'>2</a>\u001b[0m final_message\u001b[39m.\u001b[39mpd\u001b[39m.\u001b[39mto_csv(\u001b[39m'\u001b[39m\u001b[39mFinal_Message.csv\u001b[39m\u001b[39m'\u001b[39m)\n",
      "\u001b[1;31mNameError\u001b[0m: name 'final_message' is not defined"
     ]
    }
   ],
   "source": [
    "#To CSV\n",
    "final_message.pd.to_csv('Final_Message.csv')"
   ]
  }
 ],
 "metadata": {
  "kernelspec": {
   "display_name": "base",
   "language": "python",
   "name": "python3"
  },
  "language_info": {
   "codemirror_mode": {
    "name": "ipython",
    "version": 3
   },
   "file_extension": ".py",
   "mimetype": "text/x-python",
   "name": "python",
   "nbconvert_exporter": "python",
   "pygments_lexer": "ipython3",
   "version": "3.9.12"
  },
  "vscode": {
   "interpreter": {
    "hash": "6c9b5f2fc96e180b8a5a8a696d3f7e4165240dee36d2141e31628b5fa32cbf6e"
   }
  }
 },
 "nbformat": 4,
 "nbformat_minor": 5
}
